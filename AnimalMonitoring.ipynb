{
 "cells": [
  {
   "cell_type": "markdown",
   "metadata": {},
   "source": [
    "# Animal Monitoring AI Project"
   ]
  },
  {
   "cell_type": "code",
   "execution_count": 1,
   "metadata": {},
   "outputs": [],
   "source": [
    "import os\n",
    "import pandas as pd\n",
    "import numpy as np \n",
    "from pyspark.sql import SparkSession\n",
    "from pyspark.sql.functions import col\n",
    "\n",
    "df_s1.select([col(c).alias(c.replace(' ', '_')) for c in df_s1.columns]).na.drop().show()\n"
   ]
  },
  {
   "cell_type": "code",
   "execution_count": 2,
   "metadata": {},
   "outputs": [],
   "source": [
    "# Define paths\n",
    "sheep_path = \"/Users/shreyanair/AnimalCollarAI/Data/Sheep\"\n",
    "goat_path = \"/Users/shreyanair/AnimalCollarAI/Data/Goat\""
   ]
  },
  {
   "cell_type": "code",
   "execution_count": 3,
   "metadata": {},
   "outputs": [
    {
     "name": "stderr",
     "output_type": "stream",
     "text": [
      "23/10/27 18:54:17 WARN Utils: Your hostname, Shreyas-MacBook-Pro.local resolves to a loopback address: 127.0.0.1; using 192.168.2.18 instead (on interface en0)\n",
      "23/10/27 18:54:17 WARN Utils: Set SPARK_LOCAL_IP if you need to bind to another address\n",
      "Setting default log level to \"WARN\".\n",
      "To adjust logging level use sc.setLogLevel(newLevel). For SparkR, use setLogLevel(newLevel).\n",
      "23/10/27 18:54:18 WARN NativeCodeLoader: Unable to load native-hadoop library for your platform... using builtin-java classes where applicable\n"
     ]
    }
   ],
   "source": [
    "#Initializing Sparksession\n",
    "spark = SparkSession.builder.appName(\"CSV Reader\").getOrCreate()"
   ]
  },
  {
   "cell_type": "code",
   "execution_count": 4,
   "metadata": {},
   "outputs": [
    {
     "name": "stderr",
     "output_type": "stream",
     "text": [
      "                                                                                \r"
     ]
    }
   ],
   "source": [
    "# Read the CSV file into a DataFrame\n",
    "df = spark.read.csv(f\"{sheep_path}/s1.csv\", header=True, inferSchema=True)"
   ]
  },
  {
   "cell_type": "code",
   "execution_count": 5,
   "metadata": {},
   "outputs": [
    {
     "name": "stdout",
     "output_type": "stream",
     "text": [
      "+-------+---------+----------+------------+--------+--------+--------+---------+--------+-------+------+-------+------+----------+--------+--------+--------+-----+\n",
      "|  label|animal_ID|segment_ID|timestamp_ms|      ax|      ay|      az|     axhg|    ayhg|   azhg|    cx|     cy|    cz|        gx|      gy|      gz|pressure| temp|\n",
      "+-------+---------+----------+------------+--------+--------+--------+---------+--------+-------+------+-------+------+----------+--------+--------+--------+-----+\n",
      "|walking|       S1|         1|           1|-2.73178|-6.68701|-6.57208|  2.13233|-5.37588|17.8696|1.5525|-0.4755|0.5415|    2.0122|-51.3415| -32.622|     NaN|27.38|\n",
      "|walking|       S1|         1|           6|-2.78206|-6.82347|-6.62954|  1.71187|-3.27358| 17.329|   NaN|    NaN|   NaN| -0.121951|-47.3171|-33.5366|     NaN|27.39|\n",
      "|walking|       S1|         1|          11|-2.82755|-6.96713|-6.54814|  3.09339|-3.63398|17.0286|1.5405|-0.4785|0.5655|  -1.89024| -42.561|   -35.0|     NaN|27.39|\n",
      "|walking|       S1|         1|          16|-2.85149|-7.14669|-6.47871|  1.65181|-4.41483|18.2299|   NaN|    NaN|   NaN|  -3.10976|-37.7439|-36.6463| 1008.22|27.36|\n",
      "|walking|       S1|         1|          21| -2.8922| -7.3071|-6.37815|  1.17128|-3.45378|16.5481|1.5405|-0.4785|0.5655|   -2.9878|-33.0488|-38.3537|     NaN|27.36|\n",
      "|walking|       S1|         1|          26|-2.90656|-7.45315|-6.20577|  0.63069|-4.89536|  18.29|   NaN|    NaN|   NaN|   -2.0122|-28.8415|-39.6951|     NaN|27.36|\n",
      "|walking|       S1|         1|          31|-2.89459|-7.53455|-6.09324|  3.15345|-6.15674|18.7705| 1.524| -0.495|  0.57|-0.0609756|-25.4268|-40.7317|     NaN|27.36|\n",
      "|walking|       S1|         1|          36|-2.88501|-7.52258|-5.99748|  1.71187|-6.51713|16.7884|   NaN|    NaN|   NaN|    2.0122|-22.8659|-41.5244|     NaN|27.36|\n",
      "|walking|       S1|         1|          41|-2.86347|-7.44118|-6.00226|  2.91319|-5.97654|17.5092| 1.545| -0.477| 0.567|   3.47561|-21.1585|-42.3171|     NaN|27.36|\n",
      "|walking|       S1|         1|          46|-2.82995|-7.33344|-6.14352| 0.991085|-6.03661|18.1699|   NaN|    NaN|   NaN|   3.90244|-20.4268|-43.1098|     NaN|27.36|\n",
      "|walking|       S1|         1|          51|-2.79403|-7.16824|-6.40928|  2.31253|-4.05444|16.9085| 1.527| -0.483| 0.558|   2.80488|-20.3049|-43.3537|     NaN|27.36|\n",
      "|walking|       S1|         1|          56|-2.77249| -7.0198| -6.7732|-0.480526|-4.23463|18.8306|   NaN|    NaN|   NaN|  0.365854|-20.7317|-43.1098| 1008.22|27.37|\n",
      "|walking|       S1|         1|          61|-2.76291|-6.88812|-7.22091|  2.97325|-3.81417|16.7283| 1.554| -0.486| 0.546|  -3.10976|-21.5244| -42.378|     NaN|27.36|\n",
      "|walking|       S1|         1|          66|-2.73178|-6.79235|-7.66384|  2.70296| -2.1023|16.5181|   NaN|    NaN|   NaN|  -7.19512|-22.2561|-41.9512|     NaN|27.37|\n",
      "|walking|       S1|         1|          71|-2.65756|-6.74686|-8.01339|-0.180197|-5.10559|16.5181| 1.524| -0.492| 0.564|  -12.0732|-22.7439|-41.8902|     NaN|27.35|\n",
      "|walking|       S1|         1|          76|-2.54743|-6.76601|   -8.26|  1.32145|-3.72408| 15.497|   NaN|    NaN|   NaN|  -16.9512|-22.7439|-42.1341|     NaN|27.34|\n",
      "|walking|       S1|         1|          81|-2.36308|-6.83066|-8.39407|  2.70296|-4.92539|15.1366| 1.557| -0.486| 0.561|  -21.6463| -22.439|-42.8659|     NaN|27.36|\n",
      "|walking|       S1|         1|          86|-2.12126|-6.91206|-8.29112|  2.88316|-2.52276|17.8996|   NaN|    NaN|   NaN|  -25.8537|-21.7683|-43.5366|     NaN|27.35|\n",
      "|walking|       S1|         1|          91|-1.85311|-7.06289|-8.15705|  3.90427| -4.2046|16.6983|1.5315|-0.4965|0.5775|     -30.0|-21.2195|-43.3537|     NaN|27.36|\n",
      "|walking|       S1|         1|          96|-1.57299|-7.25683|-7.93199|  3.24355|-3.48381|16.1577|   NaN|    NaN|   NaN|  -33.5366|-20.9756|-41.7683| 1008.22|27.33|\n",
      "+-------+---------+----------+------------+--------+--------+--------+---------+--------+-------+------+-------+------+----------+--------+--------+--------+-----+\n",
      "only showing top 20 rows\n",
      "\n"
     ]
    }
   ],
   "source": [
    "# Show the DataFrame\n",
    "df.show()"
   ]
  },
  {
   "cell_type": "code",
   "execution_count": 7,
   "metadata": {},
   "outputs": [
    {
     "name": "stdout",
     "output_type": "stream",
     "text": [
      "root\n",
      " |-- label: string (nullable = true)\n",
      " |-- animal_ID: string (nullable = true)\n",
      " |-- segment_ID: integer (nullable = true)\n",
      " |-- timestamp_ms: integer (nullable = true)\n",
      " |-- ax: double (nullable = true)\n",
      " |-- ay: double (nullable = true)\n",
      " |-- az: double (nullable = true)\n",
      " |-- axhg: double (nullable = true)\n",
      " |-- ayhg: double (nullable = true)\n",
      " |-- azhg: double (nullable = true)\n",
      " |-- cx: double (nullable = true)\n",
      " |-- cy: double (nullable = true)\n",
      " |-- cz: double (nullable = true)\n",
      " |-- gx: double (nullable = true)\n",
      " |-- gy: double (nullable = true)\n",
      " |-- gz: double (nullable = true)\n",
      " |-- pressure: double (nullable = true)\n",
      " |-- temp: double (nullable = true)\n",
      "\n"
     ]
    }
   ],
   "source": [
    "df.printSchema() "
   ]
  },
  {
   "cell_type": "code",
   "execution_count": 8,
   "metadata": {},
   "outputs": [
    {
     "name": "stderr",
     "output_type": "stream",
     "text": [
      "23/10/27 19:07:08 WARN SparkStringUtils: Truncated the string representation of a plan since it was too large. This behavior can be adjusted by setting 'spark.sql.debug.maxToStringFields'.\n",
      "[Stage 3:======================>                                    (3 + 5) / 8]\r"
     ]
    },
    {
     "name": "stdout",
     "output_type": "stream",
     "text": [
      "+-------+--------+---------+------------------+-----------------+------------------+-------------------+------------------+------------------+------------------+-----------------+-------+-------+-------+-------------------+-------------------+-------------------+--------+------------------+\n",
      "|summary|   label|animal_ID|        segment_ID|     timestamp_ms|                ax|                 ay|                az|              axhg|              ayhg|             azhg|     cx|     cy|     cz|                 gx|                 gy|                 gz|pressure|              temp|\n",
      "+-------+--------+---------+------------------+-----------------+------------------+-------------------+------------------+------------------+------------------+-----------------+-------+-------+-------+-------------------+-------------------+-------------------+--------+------------------+\n",
      "|  count| 2387995|  2387995|           2387995|          2387995|           2387995|            2387995|           2387995|           2387995|           2387995|          2387995|2387995|2387995|2387995|            2387995|            2387995|            2387995| 2387995|           2387995|\n",
      "|   mean|    NULL|     NULL|332.03151430384065|        5969986.0|1.2790221098116896|-0.1799655270791421|-9.349291996970559| 6.035766658637932|3.6636449413259005|14.64627203108719|    NaN|    NaN|    NaN|-0.2765116556504508|0.19036602343270875|-0.3720830878876209|     NaN| 29.71141137649143|\n",
      "| stddev|    NULL|     NULL|119.11005036442724|3446774.611871462| 2.251578787062866|  5.021775068794217| 4.579357927340989|2.6091594925028265| 5.323465421266316|5.021624641555742|    NaN|    NaN|    NaN|   92.1811987505816|  45.26130178856868|   36.4934494415904|     NaN|2.0752884034890338|\n",
      "|    min|fighting|       S1|                 1|                1|          -78.4532|           -78.4532|          -78.4532|          -114.155|          -138.842|         -105.325|  1.203|-0.9285|-0.0945|           -1197.74|           -1684.27|           -996.524| 1008.05|             26.08|\n",
      "|    max| walking|       S1|               679|         11939971|           78.4508|            78.4508|           64.5142|           111.092|           708.986|          148.723|    NaN|    NaN|    NaN|            1519.33|            1559.45|            1112.01|     NaN|              34.6|\n",
      "+-------+--------+---------+------------------+-----------------+------------------+-------------------+------------------+------------------+------------------+-----------------+-------+-------+-------+-------------------+-------------------+-------------------+--------+------------------+\n",
      "\n"
     ]
    },
    {
     "name": "stderr",
     "output_type": "stream",
     "text": [
      "                                                                                \r"
     ]
    }
   ],
   "source": [
    "df.describe().show()"
   ]
  },
  {
   "cell_type": "code",
   "execution_count": 11,
   "metadata": {},
   "outputs": [
    {
     "ename": "AttributeError",
     "evalue": "'DataFrame' object has no attribute 'isnull'",
     "output_type": "error",
     "traceback": [
      "\u001b[0;31m---------------------------------------------------------------------------\u001b[0m",
      "\u001b[0;31mAttributeError\u001b[0m                            Traceback (most recent call last)",
      "\u001b[1;32m/Users/shreyanair/AnimalCollarAI/AnimalMonitoring.ipynb Cell 9\u001b[0m line \u001b[0;36m1\n\u001b[0;32m----> <a href='vscode-notebook-cell:/Users/shreyanair/AnimalCollarAI/AnimalMonitoring.ipynb#X13sZmlsZQ%3D%3D?line=0'>1</a>\u001b[0m df\u001b[39m.\u001b[39;49misnull()\u001b[39m.\u001b[39mshow()\n",
      "File \u001b[0;32m~/AnimalCollarAI/animalmonitoring/lib/python3.10/site-packages/pyspark/sql/dataframe.py:3123\u001b[0m, in \u001b[0;36mDataFrame.__getattr__\u001b[0;34m(self, name)\u001b[0m\n\u001b[1;32m   3090\u001b[0m \u001b[39m\u001b[39m\u001b[39m\"\"\"Returns the :class:`Column` denoted by ``name``.\u001b[39;00m\n\u001b[1;32m   3091\u001b[0m \n\u001b[1;32m   3092\u001b[0m \u001b[39m.. versionadded:: 1.3.0\u001b[39;00m\n\u001b[0;32m   (...)\u001b[0m\n\u001b[1;32m   3120\u001b[0m \u001b[39m+---+\u001b[39;00m\n\u001b[1;32m   3121\u001b[0m \u001b[39m\"\"\"\u001b[39;00m\n\u001b[1;32m   3122\u001b[0m \u001b[39mif\u001b[39;00m name \u001b[39mnot\u001b[39;00m \u001b[39min\u001b[39;00m \u001b[39mself\u001b[39m\u001b[39m.\u001b[39mcolumns:\n\u001b[0;32m-> 3123\u001b[0m     \u001b[39mraise\u001b[39;00m \u001b[39mAttributeError\u001b[39;00m(\n\u001b[1;32m   3124\u001b[0m         \u001b[39m\"\u001b[39m\u001b[39m'\u001b[39m\u001b[39m%s\u001b[39;00m\u001b[39m'\u001b[39m\u001b[39m object has no attribute \u001b[39m\u001b[39m'\u001b[39m\u001b[39m%s\u001b[39;00m\u001b[39m'\u001b[39m\u001b[39m\"\u001b[39m \u001b[39m%\u001b[39m (\u001b[39mself\u001b[39m\u001b[39m.\u001b[39m\u001b[39m__class__\u001b[39m\u001b[39m.\u001b[39m\u001b[39m__name__\u001b[39m, name)\n\u001b[1;32m   3125\u001b[0m     )\n\u001b[1;32m   3126\u001b[0m jc \u001b[39m=\u001b[39m \u001b[39mself\u001b[39m\u001b[39m.\u001b[39m_jdf\u001b[39m.\u001b[39mapply(name)\n\u001b[1;32m   3127\u001b[0m \u001b[39mreturn\u001b[39;00m Column(jc)\n",
      "\u001b[0;31mAttributeError\u001b[0m: 'DataFrame' object has no attribute 'isnull'"
     ]
    }
   ],
   "source": [
    "df.isnull().show()"
   ]
  },
  {
   "cell_type": "code",
   "execution_count": null,
   "metadata": {},
   "outputs": [],
   "source": []
  }
 ],
 "metadata": {
  "kernelspec": {
   "display_name": "animalmonitoring",
   "language": "python",
   "name": "python3"
  },
  "language_info": {
   "codemirror_mode": {
    "name": "ipython",
    "version": 3
   },
   "file_extension": ".py",
   "mimetype": "text/x-python",
   "name": "python",
   "nbconvert_exporter": "python",
   "pygments_lexer": "ipython3",
   "version": "3.10.12"
  }
 },
 "nbformat": 4,
 "nbformat_minor": 2
}
